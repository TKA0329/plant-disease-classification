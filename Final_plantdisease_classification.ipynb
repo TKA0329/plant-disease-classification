{
  "cells": [
    {
      "cell_type": "code",
      "execution_count": null,
      "metadata": {
        "colab": {
          "base_uri": "https://localhost:8080/"
        },
        "id": "S2qM154IN2NF",
        "outputId": "ca8db7f0-0bcb-488c-c309-3e7bc76a1a1c"
      },
      "outputs": [
        {
          "name": "stdout",
          "output_type": "stream",
          "text": [
            "fatal: destination path 'PlantVillage-Dataset' already exists and is not an empty directory.\n"
          ]
        }
      ],
      "source": [
        "import torch\n",
        "device = \"cuda\" if torch.cuda.is_available() else \"cpu\"\n",
        "\n",
        "!git clone https://github.com/spMohanty/PlantVillage-Dataset.git"
      ]
    },
    {
      "cell_type": "code",
      "execution_count": null,
      "metadata": {
        "colab": {
          "base_uri": "https://localhost:8080/"
        },
        "id": "u5o515gGO4yS",
        "outputId": "64c96aae-1a7b-4560-9830-f1fefb62dcfe"
      },
      "outputs": [
        {
          "name": "stdout",
          "output_type": "stream",
          "text": [
            "✅ Done! Your dataset is now split and organized.\n"
          ]
        }
      ],
      "source": [
        "import os\n",
        "import shutil\n",
        "from sklearn.model_selection import train_test_split\n",
        "from pathlib import Path\n",
        "\n",
        "source_path = Path(\"PlantVillage-Dataset/raw/color\")\n",
        "source_dir = source_path\n",
        "dest_dir = \"/content/plantvillage\"\n",
        "train_dir = os.path.join(dest_dir, \"train\")\n",
        "test_dir = os.path.join(dest_dir, \"test\")\n",
        "\n",
        "# Create train/test directories\n",
        "os.makedirs(train_dir, exist_ok=True)\n",
        "os.makedirs(test_dir, exist_ok=True)\n",
        "\n",
        "# Loop through each class folder\n",
        "for class_name in os.listdir(source_dir):\n",
        "  class_path = os.path.join(source_dir, class_name)\n",
        "  if not os.path.isdir(class_path):\n",
        "      continue  # skip files if any\n",
        "\n",
        "  # Get all images in the class folder\n",
        "  images = [f for f in os.listdir(class_path) if f.endswith(('.JPG', '.JPEG', '.PNG'))]\n",
        "\n",
        "  # Full paths to images\n",
        "\n",
        "  images_full_path = [os.path.join(class_path, f) for f in images]\n",
        "  # Train-test split\n",
        "  train_imgs, test_imgs = train_test_split(images_full_path, test_size=0.2, random_state=42)\n",
        "\n",
        "  # Create class subfolders in train/test directories\n",
        "  os.makedirs(os.path.join(train_dir, class_name), exist_ok=True)\n",
        "  os.makedirs(os.path.join(test_dir, class_name), exist_ok=True)\n",
        "\n",
        "  # Move train images\n",
        "  for img_path in train_imgs:\n",
        "      shutil.copy(img_path, os.path.join(train_dir, class_name, os.path.basename(img_path)))\n",
        "\n",
        "  # Move test images\n",
        "  for img_path in test_imgs:\n",
        "      shutil.copy(img_path, os.path.join(test_dir, class_name, os.path.basename(img_path)))\n",
        "\n",
        "print(\"✅ Done! Your dataset is now split and organized.\")"
      ]
    },
    {
      "cell_type": "code",
      "execution_count": null,
      "metadata": {
        "colab": {
          "base_uri": "https://localhost:8080/"
        },
        "id": "j1l5K1OkVXw6",
        "outputId": "088b5fd4-7797-456c-c92a-ba34ca21bd8e"
      },
      "outputs": [
        {
          "name": "stdout",
          "output_type": "stream",
          "text": [
            "Requirement already satisfied: timm in /usr/local/lib/python3.11/dist-packages (1.0.19)\n",
            "Requirement already satisfied: torch in /usr/local/lib/python3.11/dist-packages (from timm) (2.6.0+cu124)\n",
            "Requirement already satisfied: torchvision in /usr/local/lib/python3.11/dist-packages (from timm) (0.21.0+cu124)\n",
            "Requirement already satisfied: pyyaml in /usr/local/lib/python3.11/dist-packages (from timm) (6.0.2)\n",
            "Requirement already satisfied: huggingface_hub in /usr/local/lib/python3.11/dist-packages (from timm) (0.34.1)\n",
            "Requirement already satisfied: safetensors in /usr/local/lib/python3.11/dist-packages (from timm) (0.5.3)\n",
            "Requirement already satisfied: filelock in /usr/local/lib/python3.11/dist-packages (from huggingface_hub->timm) (3.18.0)\n",
            "Requirement already satisfied: fsspec>=2023.5.0 in /usr/local/lib/python3.11/dist-packages (from huggingface_hub->timm) (2025.3.0)\n",
            "Requirement already satisfied: packaging>=20.9 in /usr/local/lib/python3.11/dist-packages (from huggingface_hub->timm) (25.0)\n",
            "Requirement already satisfied: requests in /usr/local/lib/python3.11/dist-packages (from huggingface_hub->timm) (2.32.3)\n",
            "Requirement already satisfied: tqdm>=4.42.1 in /usr/local/lib/python3.11/dist-packages (from huggingface_hub->timm) (4.67.1)\n",
            "Requirement already satisfied: typing-extensions>=3.7.4.3 in /usr/local/lib/python3.11/dist-packages (from huggingface_hub->timm) (4.14.1)\n",
            "Requirement already satisfied: hf-xet<2.0.0,>=1.1.3 in /usr/local/lib/python3.11/dist-packages (from huggingface_hub->timm) (1.1.5)\n",
            "Requirement already satisfied: networkx in /usr/local/lib/python3.11/dist-packages (from torch->timm) (3.5)\n",
            "Requirement already satisfied: jinja2 in /usr/local/lib/python3.11/dist-packages (from torch->timm) (3.1.6)\n",
            "Requirement already satisfied: nvidia-cuda-nvrtc-cu12==12.4.127 in /usr/local/lib/python3.11/dist-packages (from torch->timm) (12.4.127)\n",
            "Requirement already satisfied: nvidia-cuda-runtime-cu12==12.4.127 in /usr/local/lib/python3.11/dist-packages (from torch->timm) (12.4.127)\n",
            "Requirement already satisfied: nvidia-cuda-cupti-cu12==12.4.127 in /usr/local/lib/python3.11/dist-packages (from torch->timm) (12.4.127)\n",
            "Requirement already satisfied: nvidia-cudnn-cu12==9.1.0.70 in /usr/local/lib/python3.11/dist-packages (from torch->timm) (9.1.0.70)\n",
            "Requirement already satisfied: nvidia-cublas-cu12==12.4.5.8 in /usr/local/lib/python3.11/dist-packages (from torch->timm) (12.4.5.8)\n",
            "Requirement already satisfied: nvidia-cufft-cu12==11.2.1.3 in /usr/local/lib/python3.11/dist-packages (from torch->timm) (11.2.1.3)\n",
            "Requirement already satisfied: nvidia-curand-cu12==10.3.5.147 in /usr/local/lib/python3.11/dist-packages (from torch->timm) (10.3.5.147)\n",
            "Requirement already satisfied: nvidia-cusolver-cu12==11.6.1.9 in /usr/local/lib/python3.11/dist-packages (from torch->timm) (11.6.1.9)\n",
            "Requirement already satisfied: nvidia-cusparse-cu12==12.3.1.170 in /usr/local/lib/python3.11/dist-packages (from torch->timm) (12.3.1.170)\n",
            "Requirement already satisfied: nvidia-cusparselt-cu12==0.6.2 in /usr/local/lib/python3.11/dist-packages (from torch->timm) (0.6.2)\n",
            "Requirement already satisfied: nvidia-nccl-cu12==2.21.5 in /usr/local/lib/python3.11/dist-packages (from torch->timm) (2.21.5)\n",
            "Requirement already satisfied: nvidia-nvtx-cu12==12.4.127 in /usr/local/lib/python3.11/dist-packages (from torch->timm) (12.4.127)\n",
            "Requirement already satisfied: nvidia-nvjitlink-cu12==12.4.127 in /usr/local/lib/python3.11/dist-packages (from torch->timm) (12.4.127)\n",
            "Requirement already satisfied: triton==3.2.0 in /usr/local/lib/python3.11/dist-packages (from torch->timm) (3.2.0)\n",
            "Requirement already satisfied: sympy==1.13.1 in /usr/local/lib/python3.11/dist-packages (from torch->timm) (1.13.1)\n",
            "Requirement already satisfied: mpmath<1.4,>=1.1.0 in /usr/local/lib/python3.11/dist-packages (from sympy==1.13.1->torch->timm) (1.3.0)\n",
            "Requirement already satisfied: numpy in /usr/local/lib/python3.11/dist-packages (from torchvision->timm) (2.0.2)\n",
            "Requirement already satisfied: pillow!=8.3.*,>=5.3.0 in /usr/local/lib/python3.11/dist-packages (from torchvision->timm) (11.3.0)\n",
            "Requirement already satisfied: MarkupSafe>=2.0 in /usr/local/lib/python3.11/dist-packages (from jinja2->torch->timm) (3.0.2)\n",
            "Requirement already satisfied: charset-normalizer<4,>=2 in /usr/local/lib/python3.11/dist-packages (from requests->huggingface_hub->timm) (3.4.2)\n",
            "Requirement already satisfied: idna<4,>=2.5 in /usr/local/lib/python3.11/dist-packages (from requests->huggingface_hub->timm) (3.10)\n",
            "Requirement already satisfied: urllib3<3,>=1.21.1 in /usr/local/lib/python3.11/dist-packages (from requests->huggingface_hub->timm) (2.5.0)\n",
            "Requirement already satisfied: certifi>=2017.4.17 in /usr/local/lib/python3.11/dist-packages (from requests->huggingface_hub->timm) (2025.7.14)\n"
          ]
        }
      ],
      "source": [
        "!pip install timm"
      ]
    },
    {
      "cell_type": "code",
      "execution_count": null,
      "metadata": {
        "colab": {
          "base_uri": "https://localhost:8080/"
        },
        "id": "STtt4-Z0VcOj",
        "outputId": "803dbb17-48b7-45c3-a64c-fe078cfbb48e"
      },
      "outputs": [
        {
          "data": {
            "text/plain": [
              "<timm.data.mixup.Mixup at 0x7ba608793890>"
            ]
          },
          "execution_count": 17,
          "metadata": {},
          "output_type": "execute_result"
        }
      ],
      "source": [
        "from timm.data.mixup import Mixup\n",
        "mixup_fn = Mixup(cutmix_alpha=0.8, # it cuts a patch from one image and pastes it onto another.\n",
        "                 mixup_alpha=0.4, # controls how much blending happens in MixUp.\n",
        "                 prob=1.0, # probability of applying either MixUp or CutMix (1.0 = always apply)\n",
        "                 switch_prob = 0.5, # 50% chance = MixUp # 50% chance = CutMix\n",
        "                 mode=\"batch\",  # apply the same mixing to the whole batch\n",
        "                 num_classes = 38) # otherwise defaults to 1000 (assume ImageNet)\n",
        "                 # 'pair' (mix samples in pairs individually) or 'elem' (per element).\n",
        "\n",
        "mixup_fn # apply during training before feeding in a batch from DataLoader"
      ]
    },
    {
      "cell_type": "code",
      "execution_count": null,
      "metadata": {
        "colab": {
          "base_uri": "https://localhost:8080/"
        },
        "id": "cVOldN9ySPAP",
        "outputId": "d2c6656e-5d92-4252-b47c-8e58ed4d348b"
      },
      "outputs": [
        {
          "data": {
            "text/plain": [
              "(10577, 42226)"
            ]
          },
          "execution_count": 18,
          "metadata": {},
          "output_type": "execute_result"
        }
      ],
      "source": [
        "data_path = Path(\"plantvillage\")\n",
        "train_dir = data_path / \"train\"\n",
        "test_dir = data_path / \"test\"\n",
        "\n",
        "import torch\n",
        "from torch.utils.data import DataLoader\n",
        "from torchvision import datasets, transforms\n",
        "\n",
        "\n",
        "train_data_transform = transforms.Compose([transforms.Resize(size=(128,128)),\n",
        "                                           transforms.RandomHorizontalFlip(),\n",
        "    transforms.RandomRotation(25),\n",
        "    transforms.ColorJitter(0.3, 0.3, 0.3, 0.2),\n",
        "    transforms.RandomPerspective(distortion_scale=0.5, p=0.5),\n",
        "                                     transforms.TrivialAugmentWide(num_magnitude_bins=31),\n",
        "                                    transforms.ToTensor(),\n",
        "                                           transforms.Normalize(mean=[0.5]*3, std=[0.5]*3)])\n",
        "\n",
        "test_data_transform= transforms.Compose([transforms.Resize(size=(128,128)),\n",
        "                                    transforms.ToTensor(),\n",
        "                                         transforms.Normalize(mean=[0.5]*3, std=[0.5]*3)])\n",
        "\n",
        "train_data = datasets.ImageFolder(root=train_dir,\n",
        "                                  transform = train_data_transform)\n",
        "\n",
        "test_data = datasets.ImageFolder(root=test_dir,\n",
        "                                 transform = test_data_transform)\n",
        "\n",
        "len(test_data), len(train_data)"
      ]
    },
    {
      "cell_type": "code",
      "execution_count": null,
      "metadata": {
        "colab": {
          "base_uri": "https://localhost:8080/"
        },
        "id": "H_JPEQEaTe3G",
        "outputId": "1fda6350-6d4a-4833-98c3-34a5d29978c7"
      },
      "outputs": [
        {
          "name": "stdout",
          "output_type": "stream",
          "text": [
            "Shape: torch.Size([32, 3, 128, 128])\n",
            "Label: tensor([0, 0, 0, 0, 0, 0, 0, 0, 0, 0, 0, 0, 0, 0, 0, 0, 0, 0, 0, 0, 0, 0, 0, 0,\n",
            "        0, 0, 0, 0, 0, 0, 0, 0])\n"
          ]
        },
        {
          "data": {
            "text/plain": [
              "Dataset ImageFolder\n",
              "    Number of datapoints: 42226\n",
              "    Root location: plantvillage/train\n",
              "    StandardTransform\n",
              "Transform: Compose(\n",
              "               Resize(size=(128, 128), interpolation=bilinear, max_size=None, antialias=True)\n",
              "               RandomHorizontalFlip(p=0.5)\n",
              "               RandomRotation(degrees=[-25.0, 25.0], interpolation=nearest, expand=False, fill=0)\n",
              "               ColorJitter(brightness=(0.7, 1.3), contrast=(0.7, 1.3), saturation=(0.7, 1.3), hue=(-0.2, 0.2))\n",
              "               RandomPerspective(p=0.5)\n",
              "               TrivialAugmentWide(num_magnitude_bins=31, interpolation=InterpolationMode.NEAREST, fill=None)\n",
              "               ToTensor()\n",
              "               Normalize(mean=[0.5, 0.5, 0.5], std=[0.5, 0.5, 0.5])\n",
              "           )"
            ]
          },
          "execution_count": 19,
          "metadata": {},
          "output_type": "execute_result"
        }
      ],
      "source": [
        "from torch.utils.data import DataLoader\n",
        "import os\n",
        "BATCH_SIZE = 32\n",
        "NUM_WORKERS = os.cpu_count()\n",
        "train_dataloader = DataLoader(dataset = train_data,\n",
        "                             shuffle=True,\n",
        "                             batch_size=BATCH_SIZE,\n",
        "                             num_workers=NUM_WORKERS)\n",
        "test_dataloader = DataLoader(dataset=test_data,\n",
        "                              shuffle=False,\n",
        "                              batch_size=BATCH_SIZE,\n",
        "                              num_workers=NUM_WORKERS)\n",
        "\n",
        "image, label = next(iter(test_dataloader))\n",
        "print(f\"Shape: {image.shape}\")\n",
        "print(f\"Label: {label}\")\n",
        "\n",
        "train_data"
      ]
    },
    {
      "cell_type": "code",
      "execution_count": null,
      "metadata": {
        "colab": {
          "base_uri": "https://localhost:8080/"
        },
        "id": "DQSdHibGThSP",
        "outputId": "6827e1b6-4244-4dc7-d33a-23a28da754a2"
      },
      "outputs": [
        {
          "data": {
            "text/plain": [
              "(['Apple___Apple_scab',\n",
              "  'Apple___Black_rot',\n",
              "  'Apple___Cedar_apple_rust',\n",
              "  'Apple___healthy',\n",
              "  'Blueberry___healthy',\n",
              "  'Cherry_(including_sour)___Powdery_mildew',\n",
              "  'Cherry_(including_sour)___healthy',\n",
              "  'Corn_(maize)___Cercospora_leaf_spot Gray_leaf_spot',\n",
              "  'Corn_(maize)___Common_rust_',\n",
              "  'Corn_(maize)___Northern_Leaf_Blight',\n",
              "  'Corn_(maize)___healthy',\n",
              "  'Grape___Black_rot',\n",
              "  'Grape___Esca_(Black_Measles)',\n",
              "  'Grape___Leaf_blight_(Isariopsis_Leaf_Spot)',\n",
              "  'Grape___healthy',\n",
              "  'Orange___Haunglongbing_(Citrus_greening)',\n",
              "  'Peach___Bacterial_spot',\n",
              "  'Peach___healthy',\n",
              "  'Pepper,_bell___Bacterial_spot',\n",
              "  'Pepper,_bell___healthy',\n",
              "  'Potato___Early_blight',\n",
              "  'Potato___Late_blight',\n",
              "  'Potato___healthy',\n",
              "  'Raspberry___healthy',\n",
              "  'Soybean___healthy',\n",
              "  'Squash___Powdery_mildew',\n",
              "  'Strawberry___Leaf_scorch',\n",
              "  'Strawberry___healthy',\n",
              "  'Tomato___Bacterial_spot',\n",
              "  'Tomato___Early_blight',\n",
              "  'Tomato___Late_blight',\n",
              "  'Tomato___Leaf_Mold',\n",
              "  'Tomato___Septoria_leaf_spot',\n",
              "  'Tomato___Spider_mites Two-spotted_spider_mite',\n",
              "  'Tomato___Target_Spot',\n",
              "  'Tomato___Tomato_Yellow_Leaf_Curl_Virus',\n",
              "  'Tomato___Tomato_mosaic_virus',\n",
              "  'Tomato___healthy'],\n",
              " {'Apple___Apple_scab': 0,\n",
              "  'Apple___Black_rot': 1,\n",
              "  'Apple___Cedar_apple_rust': 2,\n",
              "  'Apple___healthy': 3,\n",
              "  'Blueberry___healthy': 4,\n",
              "  'Cherry_(including_sour)___Powdery_mildew': 5,\n",
              "  'Cherry_(including_sour)___healthy': 6,\n",
              "  'Corn_(maize)___Cercospora_leaf_spot Gray_leaf_spot': 7,\n",
              "  'Corn_(maize)___Common_rust_': 8,\n",
              "  'Corn_(maize)___Northern_Leaf_Blight': 9,\n",
              "  'Corn_(maize)___healthy': 10,\n",
              "  'Grape___Black_rot': 11,\n",
              "  'Grape___Esca_(Black_Measles)': 12,\n",
              "  'Grape___Leaf_blight_(Isariopsis_Leaf_Spot)': 13,\n",
              "  'Grape___healthy': 14,\n",
              "  'Orange___Haunglongbing_(Citrus_greening)': 15,\n",
              "  'Peach___Bacterial_spot': 16,\n",
              "  'Peach___healthy': 17,\n",
              "  'Pepper,_bell___Bacterial_spot': 18,\n",
              "  'Pepper,_bell___healthy': 19,\n",
              "  'Potato___Early_blight': 20,\n",
              "  'Potato___Late_blight': 21,\n",
              "  'Potato___healthy': 22,\n",
              "  'Raspberry___healthy': 23,\n",
              "  'Soybean___healthy': 24,\n",
              "  'Squash___Powdery_mildew': 25,\n",
              "  'Strawberry___Leaf_scorch': 26,\n",
              "  'Strawberry___healthy': 27,\n",
              "  'Tomato___Bacterial_spot': 28,\n",
              "  'Tomato___Early_blight': 29,\n",
              "  'Tomato___Late_blight': 30,\n",
              "  'Tomato___Leaf_Mold': 31,\n",
              "  'Tomato___Septoria_leaf_spot': 32,\n",
              "  'Tomato___Spider_mites Two-spotted_spider_mite': 33,\n",
              "  'Tomato___Target_Spot': 34,\n",
              "  'Tomato___Tomato_Yellow_Leaf_Curl_Virus': 35,\n",
              "  'Tomato___Tomato_mosaic_virus': 36,\n",
              "  'Tomato___healthy': 37})"
            ]
          },
          "execution_count": 20,
          "metadata": {},
          "output_type": "execute_result"
        }
      ],
      "source": [
        "class_names = train_data.classes\n",
        "class_dict = train_data.class_to_idx\n",
        "\n",
        "class_names, class_dict"
      ]
    },
    {
      "cell_type": "code",
      "execution_count": null,
      "metadata": {
        "colab": {
          "base_uri": "https://localhost:8080/"
        },
        "id": "t5xLp5fkTm9P",
        "outputId": "158cd065-077d-4488-d35d-2e83059ee842"
      },
      "outputs": [
        {
          "data": {
            "text/plain": [
              "ResNet(\n",
              "  (conv1): Conv2d(3, 64, kernel_size=(7, 7), stride=(2, 2), padding=(3, 3), bias=False)\n",
              "  (bn1): BatchNorm2d(64, eps=1e-05, momentum=0.1, affine=True, track_running_stats=True)\n",
              "  (relu): ReLU(inplace=True)\n",
              "  (maxpool): MaxPool2d(kernel_size=3, stride=2, padding=1, dilation=1, ceil_mode=False)\n",
              "  (layer1): Sequential(\n",
              "    (0): BasicBlock(\n",
              "      (conv1): Conv2d(64, 64, kernel_size=(3, 3), stride=(1, 1), padding=(1, 1), bias=False)\n",
              "      (bn1): BatchNorm2d(64, eps=1e-05, momentum=0.1, affine=True, track_running_stats=True)\n",
              "      (relu): ReLU(inplace=True)\n",
              "      (conv2): Conv2d(64, 64, kernel_size=(3, 3), stride=(1, 1), padding=(1, 1), bias=False)\n",
              "      (bn2): BatchNorm2d(64, eps=1e-05, momentum=0.1, affine=True, track_running_stats=True)\n",
              "    )\n",
              "    (1): BasicBlock(\n",
              "      (conv1): Conv2d(64, 64, kernel_size=(3, 3), stride=(1, 1), padding=(1, 1), bias=False)\n",
              "      (bn1): BatchNorm2d(64, eps=1e-05, momentum=0.1, affine=True, track_running_stats=True)\n",
              "      (relu): ReLU(inplace=True)\n",
              "      (conv2): Conv2d(64, 64, kernel_size=(3, 3), stride=(1, 1), padding=(1, 1), bias=False)\n",
              "      (bn2): BatchNorm2d(64, eps=1e-05, momentum=0.1, affine=True, track_running_stats=True)\n",
              "    )\n",
              "  )\n",
              "  (layer2): Sequential(\n",
              "    (0): BasicBlock(\n",
              "      (conv1): Conv2d(64, 128, kernel_size=(3, 3), stride=(2, 2), padding=(1, 1), bias=False)\n",
              "      (bn1): BatchNorm2d(128, eps=1e-05, momentum=0.1, affine=True, track_running_stats=True)\n",
              "      (relu): ReLU(inplace=True)\n",
              "      (conv2): Conv2d(128, 128, kernel_size=(3, 3), stride=(1, 1), padding=(1, 1), bias=False)\n",
              "      (bn2): BatchNorm2d(128, eps=1e-05, momentum=0.1, affine=True, track_running_stats=True)\n",
              "      (downsample): Sequential(\n",
              "        (0): Conv2d(64, 128, kernel_size=(1, 1), stride=(2, 2), bias=False)\n",
              "        (1): BatchNorm2d(128, eps=1e-05, momentum=0.1, affine=True, track_running_stats=True)\n",
              "      )\n",
              "    )\n",
              "    (1): BasicBlock(\n",
              "      (conv1): Conv2d(128, 128, kernel_size=(3, 3), stride=(1, 1), padding=(1, 1), bias=False)\n",
              "      (bn1): BatchNorm2d(128, eps=1e-05, momentum=0.1, affine=True, track_running_stats=True)\n",
              "      (relu): ReLU(inplace=True)\n",
              "      (conv2): Conv2d(128, 128, kernel_size=(3, 3), stride=(1, 1), padding=(1, 1), bias=False)\n",
              "      (bn2): BatchNorm2d(128, eps=1e-05, momentum=0.1, affine=True, track_running_stats=True)\n",
              "    )\n",
              "  )\n",
              "  (layer3): Sequential(\n",
              "    (0): BasicBlock(\n",
              "      (conv1): Conv2d(128, 256, kernel_size=(3, 3), stride=(2, 2), padding=(1, 1), bias=False)\n",
              "      (bn1): BatchNorm2d(256, eps=1e-05, momentum=0.1, affine=True, track_running_stats=True)\n",
              "      (relu): ReLU(inplace=True)\n",
              "      (conv2): Conv2d(256, 256, kernel_size=(3, 3), stride=(1, 1), padding=(1, 1), bias=False)\n",
              "      (bn2): BatchNorm2d(256, eps=1e-05, momentum=0.1, affine=True, track_running_stats=True)\n",
              "      (downsample): Sequential(\n",
              "        (0): Conv2d(128, 256, kernel_size=(1, 1), stride=(2, 2), bias=False)\n",
              "        (1): BatchNorm2d(256, eps=1e-05, momentum=0.1, affine=True, track_running_stats=True)\n",
              "      )\n",
              "    )\n",
              "    (1): BasicBlock(\n",
              "      (conv1): Conv2d(256, 256, kernel_size=(3, 3), stride=(1, 1), padding=(1, 1), bias=False)\n",
              "      (bn1): BatchNorm2d(256, eps=1e-05, momentum=0.1, affine=True, track_running_stats=True)\n",
              "      (relu): ReLU(inplace=True)\n",
              "      (conv2): Conv2d(256, 256, kernel_size=(3, 3), stride=(1, 1), padding=(1, 1), bias=False)\n",
              "      (bn2): BatchNorm2d(256, eps=1e-05, momentum=0.1, affine=True, track_running_stats=True)\n",
              "    )\n",
              "  )\n",
              "  (layer4): Sequential(\n",
              "    (0): BasicBlock(\n",
              "      (conv1): Conv2d(256, 512, kernel_size=(3, 3), stride=(2, 2), padding=(1, 1), bias=False)\n",
              "      (bn1): BatchNorm2d(512, eps=1e-05, momentum=0.1, affine=True, track_running_stats=True)\n",
              "      (relu): ReLU(inplace=True)\n",
              "      (conv2): Conv2d(512, 512, kernel_size=(3, 3), stride=(1, 1), padding=(1, 1), bias=False)\n",
              "      (bn2): BatchNorm2d(512, eps=1e-05, momentum=0.1, affine=True, track_running_stats=True)\n",
              "      (downsample): Sequential(\n",
              "        (0): Conv2d(256, 512, kernel_size=(1, 1), stride=(2, 2), bias=False)\n",
              "        (1): BatchNorm2d(512, eps=1e-05, momentum=0.1, affine=True, track_running_stats=True)\n",
              "      )\n",
              "    )\n",
              "    (1): BasicBlock(\n",
              "      (conv1): Conv2d(512, 512, kernel_size=(3, 3), stride=(1, 1), padding=(1, 1), bias=False)\n",
              "      (bn1): BatchNorm2d(512, eps=1e-05, momentum=0.1, affine=True, track_running_stats=True)\n",
              "      (relu): ReLU(inplace=True)\n",
              "      (conv2): Conv2d(512, 512, kernel_size=(3, 3), stride=(1, 1), padding=(1, 1), bias=False)\n",
              "      (bn2): BatchNorm2d(512, eps=1e-05, momentum=0.1, affine=True, track_running_stats=True)\n",
              "    )\n",
              "  )\n",
              "  (avgpool): AdaptiveAvgPool2d(output_size=(1, 1))\n",
              "  (fc): Linear(in_features=512, out_features=38, bias=True)\n",
              ")"
            ]
          },
          "execution_count": 21,
          "metadata": {},
          "output_type": "execute_result"
        }
      ],
      "source": [
        "import torch\n",
        "from torchvision.models import resnet18\n",
        "device = \"cuda\" if torch.cuda.is_available() else \"cpu\"\n",
        "\n",
        "model_loaded = resnet18(weights=None)\n",
        "model_loaded.fc = torch.nn.Linear(in_features=512, out_features=38)\n",
        "\n",
        "model_loaded.load_state_dict(torch.load(\"fc+layer3+layer4+RealWorld+PlantVillageModelV6.pth\"))\n",
        "\n",
        "model_loaded.eval()\n",
        "model_loaded.to(device)"
      ]
    },
    {
      "cell_type": "code",
      "execution_count": null,
      "metadata": {
        "colab": {
          "base_uri": "https://localhost:8080/",
          "height": 413,
          "referenced_widgets": [
            "5981d0a397ec40078b12cc4ab2c5f9eb",
            "2d68e4dc3c3740ada9b7a87755d3ec47",
            "b66914fb3a3247518b7628777e2c8584",
            "4cf0ad799ad344edad9966b8ec383c68",
            "8f5bdd77accb42609a98d47433e3bebb",
            "0dcd7fdb5b054adba634073b87f8f629",
            "504586c0345648dc8cbe2007a8d7f81e",
            "c130d0977951441f8956586099c6b593",
            "453021bbee74493bba826420d7e0dde5",
            "26a2cfa914dc4e5083a1a1c5efdf2a2c",
            "98fb723f3c6d4cc1aeaa7b32fbc847f2"
          ]
        },
        "id": "rl6JBJc0TnDi",
        "outputId": "a8417a81-b492-4ac7-dd8e-eb3fdfc9b8f4"
      },
      "outputs": [
        {
          "data": {
            "application/vnd.jupyter.widget-view+json": {
              "model_id": "5981d0a397ec40078b12cc4ab2c5f9eb",
              "version_major": 2,
              "version_minor": 0
            },
            "text/plain": [
              "  0%|          | 0/5 [00:00<?, ?it/s]"
            ]
          },
          "metadata": {},
          "output_type": "display_data"
        },
        {
          "name": "stdout",
          "output_type": "stream",
          "text": [
            "Epoch: 0\n",
            "---------\n",
            "Train Loss: 0.09972604543647982 | Train Acc: 0.4052951388888889\n",
            "Test Loss: 0.04889044938524594 | Test Acc: 0.6682401812688822\n",
            "Epoch: 1\n",
            "---------\n",
            "Train Loss: 0.08855097257447514 | Train Acc: 0.4650410353535353\n",
            "Test Loss: 0.03918344772834432 | Test Acc: 0.7483950151057401\n",
            "Epoch: 2\n",
            "---------\n",
            "Train Loss: 0.0856163943271068 | Train Acc: 0.5009075126262627\n",
            "Test Loss: 0.038410305446492134 | Test Acc: 0.7548260618446775\n",
            "Epoch: 3\n",
            "---------\n",
            "Train Loss: 0.08530174988237295 | Train Acc: 0.5091172138047138\n",
            "Test Loss: 0.03556093150958014 | Test Acc: 0.7857817220543807\n",
            "Epoch: 4\n",
            "---------\n",
            "Train Loss: 0.08465340479531071 | Train Acc: 0.511908143939394\n",
            "Test Loss: 0.035548753265482784 | Test Acc: 0.7780622445352763\n",
            "Total training time: 246.266 seconds\n"
          ]
        }
      ],
      "source": [
        "import torch\n",
        "from torch import nn\n",
        "\n",
        "loss_fn = nn.BCEWithLogitsLoss()\n",
        "\n",
        "optimizer = torch.optim.Adam(lr=1e-3, params=model_loaded.parameters(),weight_decay=1e-4)\n",
        "\n",
        "scheduler_1 = torch.optim.lr_scheduler.ReduceLROnPlateau(optimizer,\n",
        "                              mode=\"min\", # because we're monitoring validation loss\n",
        "                              patience=3, # wait 3 epochs before reducing\n",
        "                              factor=0.5, # halve the LR\n",
        "                              verbose=True)  # print update\n",
        "\n",
        "from tqdm.auto import tqdm\n",
        "\n",
        "# Measure time\n",
        "from timeit import default_timer as timer\n",
        "start_time = timer()\n",
        "\n",
        "torch.manual_seed(42)\n",
        "\n",
        "epochs = 5\n",
        "\n",
        "model_loaded.train()\n",
        "\n",
        "results = {\"train_loss\": [],\n",
        "        \"train_acc\": [],\n",
        "        \"test_loss\": [],\n",
        "        \"test_acc\": []\n",
        "    }\n",
        "\n",
        "for epoch in tqdm(range(epochs)):\n",
        "  y_preds= []\n",
        "  train_loss, train_acc = 0, 0\n",
        "  test_loss, test_acc = 0,0\n",
        "  print(f\"Epoch: {epoch}\\n---------\")\n",
        "  for batch, (X, y) in enumerate(train_dataloader):\n",
        "    X, y = mixup_fn(X, y)  # y is already in soft labels\n",
        "\n",
        "\n",
        "\n",
        "    #print(y.shape) # output: 32, 1000\n",
        "    # y = torch.nn.functional.one_hot(y.long(), num_classes=38).float()\n",
        "    #print(y.shape) # output: 32, 1000, 38\n",
        "    # y = F.one_hot(y, num_classes=38).float()\n",
        "    X, y = X.to(device), y.to(device)\n",
        "    y_logits = model_loaded(X)\n",
        "    loss = loss_fn(y_logits, y)\n",
        "    train_loss += loss.item()\n",
        "    optimizer.zero_grad()\n",
        "    loss.backward()\n",
        "    optimizer.step()\n",
        "    y_labels = y_logits.argmax(dim=1)\n",
        "    y_true_labels = y.argmax(dim=1)\n",
        "    train_acc += (y_labels==y_true_labels).sum().item()/len(y_logits)\n",
        "\n",
        "  train_loss /= len(train_dataloader)\n",
        "  train_acc /= len(train_dataloader)\n",
        "\n",
        "  scheduler_1.step(train_loss)\n",
        "\n",
        "  model_loaded.eval()\n",
        "\n",
        "  with torch.inference_mode():\n",
        "    for batch, (X_test, y_test) in enumerate(test_dataloader):\n",
        "      X_test, y_test = X_test.to(device), y_test.to(device)\n",
        "      y_test_oh = torch.nn.functional.one_hot(y_test, num_classes=38).float()\n",
        "      test_y_logits = model_loaded(X_test)\n",
        "      loss = loss_fn(test_y_logits, y_test_oh)\n",
        "      test_loss += loss.item()\n",
        "\n",
        "      test_y_labels = test_y_logits.argmax(dim=1)\n",
        "      y_true_labels = y_test_oh.argmax(dim=1)\n",
        "      y_preds.append(test_y_labels.cpu())\n",
        "      test_acc += (test_y_labels == y_true_labels).sum().item()/len(test_y_logits)\n",
        "\n",
        "    test_loss /= len(test_dataloader)\n",
        "    test_acc /= len(test_dataloader)\n",
        "\n",
        "\n",
        "\n",
        "    print(f\"Train Loss: {train_loss} | Train Acc: {train_acc}\")\n",
        "    print(f\"Test Loss: {test_loss} | Test Acc: {test_acc}\")\n",
        "\n",
        "  y_pred_tensor = (torch.cat(y_preds))\n",
        "  results[\"train_loss\"].append(train_loss.item() if isinstance(train_loss, torch.Tensor) else train_loss)\n",
        "  results[\"train_acc\"].append(train_acc.item() if isinstance(train_acc, torch.Tensor) else train_acc)\n",
        "  results[\"test_loss\"].append(test_loss.item() if isinstance(test_loss, torch.Tensor) else test_loss)\n",
        "  results[\"test_acc\"].append(test_acc.item() if isinstance(test_acc, torch.Tensor) else test_acc)\n",
        "\n",
        "end_time = timer()\n",
        "print(f\"Total training time: {end_time-start_time:.3f} seconds\")"
      ]
    },
    {
      "cell_type": "code",
      "execution_count": null,
      "metadata": {
        "colab": {
          "base_uri": "https://localhost:8080/"
        },
        "id": "Z4lwXfvqG9OT",
        "outputId": "c3bf582e-7267-4402-ef79-e2191a82cce9"
      },
      "outputs": [
        {
          "name": "stdout",
          "output_type": "stream",
          "text": [
            "Saving model to: models/fc+3+4_RealWorld+PlantVillageModelV7.pth\n"
          ]
        }
      ],
      "source": [
        "from pathlib import Path\n",
        "\n",
        "# 1. Create models directory\n",
        "MODEL_PATH = Path(\"models\")\n",
        "MODEL_PATH.mkdir(parents=True, exist_ok=True)\n",
        "\n",
        "# 2. Create model save path\n",
        "MODEL_NAME = \"fc+3+4_RealWorld+PlantVillageModelV7.pth\"\n",
        "MODEL_SAVE_PATH = MODEL_PATH / MODEL_NAME\n",
        "\n",
        "# 3. Save the model state dict\n",
        "print(f\"Saving model to: {MODEL_SAVE_PATH}\")\n",
        "torch.save(obj=model_loaded.state_dict(), f = MODEL_SAVE_PATH)"
      ]
    },
    {
      "cell_type": "code",
      "execution_count": null,
      "metadata": {
        "colab": {
          "base_uri": "https://localhost:8080/",
          "height": 472
        },
        "id": "jmwgL8Xy9z_O",
        "outputId": "accff537-6d6a-4779-ab18-ef5d1278e83c"
      },
      "outputs": [
        {
          "data": {
            "image/png": "[encoded data removed]",
            "text/plain": [
              "<Figure size 640x480 with 2 Axes>"
            ]
          },
          "metadata": {},
          "output_type": "display_data"
        }
      ],
      "source": [
        "import matplotlib.pyplot as plt\n",
        "train_acc = results[\"train_acc\"]\n",
        "test_acc = results[\"test_acc\"]\n",
        "train_loss = results[\"train_loss\"]\n",
        "test_loss = results[\"test_loss\"]\n",
        "epochs = range(len(results[\"train_loss\"]))\n",
        "\n",
        "\n",
        "plt.subplot(1,2,1)\n",
        "plt.plot(epochs, train_loss, label=\"train_loss\")\n",
        "plt.plot(epochs, test_loss, label = \"test_loss\")\n",
        "plt.title(\"Loss\")\n",
        "plt.xlabel(\"Epochs\")\n",
        "plt.legend();\n",
        "\n",
        "plt.subplot(1,2,2)\n",
        "plt.plot(epochs, train_acc, label=\"train_acc\")\n",
        "plt.plot(epochs, test_acc, label = \"test_acc\")\n",
        "plt.title(\"acc\")\n",
        "plt.xlabel(\"Epochs\")\n",
        "plt.legend();"
      ]
    }
  ],
  "metadata": {
    "colab": {
      "machine_shape": "hm",
      "provenance": []
    },
    "kernelspec": {
      "display_name": "Python 3",
      "name": "python3"
    },
    "language_info": {
      "name": "python"
    }
  },
  "nbformat": 4,
  "nbformat_minor": 0
}
